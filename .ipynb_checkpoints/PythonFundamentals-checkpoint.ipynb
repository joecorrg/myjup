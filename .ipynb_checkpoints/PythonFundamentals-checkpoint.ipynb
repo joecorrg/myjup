{
 "cells": [
  {
   "cell_type": "code",
   "execution_count": null,
   "id": "c67e964f",
   "metadata": {},
   "outputs": [],
   "source": [
    "#how to create variables"
   ]
  },
  {
   "cell_type": "code",
   "execution_count": null,
   "id": "79672363",
   "metadata": {},
   "outputs": [],
   "source": [
    "#variable called i\n",
    "i = 1\n",
    "f = 1.0\n",
    "c = 'c'\n",
    "s = \"hello, world\"\n",
    "u = 'ian says \"hello\"'"
   ]
  },
  {
   "cell_type": "code",
   "execution_count": null,
   "id": "67fdaf78",
   "metadata": {},
   "outputs": [],
   "source": [
    "i"
   ]
  },
  {
   "cell_type": "code",
   "execution_count": null,
   "id": "3f251f3e",
   "metadata": {},
   "outputs": [],
   "source": [
    "f"
   ]
  },
  {
   "cell_type": "code",
   "execution_count": null,
   "id": "9cfd57b0",
   "metadata": {},
   "outputs": [],
   "source": [
    "c"
   ]
  },
  {
   "cell_type": "code",
   "execution_count": null,
   "id": "66176c7a",
   "metadata": {},
   "outputs": [],
   "source": [
    "s"
   ]
  },
  {
   "cell_type": "code",
   "execution_count": null,
   "id": "e0a097b6",
   "metadata": {},
   "outputs": [],
   "source": [
    "type(i)"
   ]
  },
  {
   "cell_type": "code",
   "execution_count": null,
   "id": "abcb1908",
   "metadata": {},
   "outputs": [],
   "source": [
    "type(c)"
   ]
  },
  {
   "cell_type": "code",
   "execution_count": null,
   "id": "f94ff5f8",
   "metadata": {},
   "outputs": [],
   "source": [
    "type (s)"
   ]
  },
  {
   "cell_type": "code",
   "execution_count": null,
   "id": "dfbf9474",
   "metadata": {},
   "outputs": [],
   "source": [
    "U\n"
   ]
  },
  {
   "cell_type": "code",
   "execution_count": null,
   "id": "9026e6ac",
   "metadata": {},
   "outputs": [],
   "source": [
    "U"
   ]
  },
  {
   "cell_type": "code",
   "execution_count": null,
   "id": "d8661a8a",
   "metadata": {},
   "outputs": [],
   "source": [
    "u"
   ]
  },
  {
   "cell_type": "code",
   "execution_count": null,
   "id": "207867d5",
   "metadata": {},
   "outputs": [],
   "source": [
    "u"
   ]
  },
  {
   "cell_type": "code",
   "execution_count": null,
   "id": "d5b67dab",
   "metadata": {},
   "outputs": [],
   "source": [
    "u + s\n"
   ]
  },
  {
   "cell_type": "code",
   "execution_count": null,
   "id": "9fc4efa8",
   "metadata": {},
   "outputs": [],
   "source": [
    "u * 3"
   ]
  },
  {
   "cell_type": "code",
   "execution_count": null,
   "id": "9e57f8ed",
   "metadata": {},
   "outputs": [],
   "source": []
  },
  {
   "cell_type": "code",
   "execution_count": null,
   "id": "657c23f2",
   "metadata": {},
   "outputs": [],
   "source": []
  }
 ],
 "metadata": {
  "kernelspec": {
   "display_name": "Python 3 (ipykernel)",
   "language": "python",
   "name": "python3"
  },
  "language_info": {
   "codemirror_mode": {
    "name": "ipython",
    "version": 3
   },
   "file_extension": ".py",
   "mimetype": "text/x-python",
   "name": "python",
   "nbconvert_exporter": "python",
   "pygments_lexer": "ipython3",
   "version": "3.9.7"
  }
 },
 "nbformat": 4,
 "nbformat_minor": 5
}
